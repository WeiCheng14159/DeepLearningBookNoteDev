{
 "cells": [
  {
   "cell_type": "markdown",
   "metadata": {},
   "source": [
    "## 深度學習解析 by Cheng Wei\n",
    "\n",
    "寫下我閱讀『深度學習』這本書的心得，歡迎各界指教 <br>\n",
    "官方網站：https://www.deeplearningbook.org/ <br>\n",
    "電子書(非官方)：https://github.com/janishar/mit-deep-learning-book-pdf <br>\n",
    "紙本（博客來）：https://www.books.com.tw/products/0010837469?sloc=main <br>"
   ]
  },
  {
   "cell_type": "markdown",
   "metadata": {},
   "source": [
    "# Index\n",
    "## Applied Math and Machine Learning Basics\n",
    " ### Linear Algebra\n",
    " ### Probability and Information Theory\n",
    " ### Numerical Computation\n",
    " ### Machine Learning Basics\n",
    "## Deep Networks: Modern Practices\n",
    " ### Deep Feedforward Networks\n",
    " ### Regularization for Deep Learning\n",
    " ### Optimization for Training Deep Models\n",
    " ### Convolutional Networks\n",
    " ### Sequence Modeling: Recurrent and Recursive Nets\n",
    " ### Practical methodology\n",
    " ### Applications\n",
    "## Deep Learning Research\n",
    " ### Linear Factor Models\n",
    " ### Autoencoders\n",
    " ### Representation Learning\n",
    " ### Structured Probabilistic Models for Deep Learning\n",
    " ### Monte Carlo Methods\n",
    " ### Confronting the Partition Function\n",
    " ### Approximate inference\n",
    " ### Deep Generative Models"
   ]
  }
 ],
 "metadata": {
  "kernelspec": {
   "display_name": "Python 3",
   "language": "python",
   "name": "python3"
  },
  "language_info": {
   "codemirror_mode": {
    "name": "ipython",
    "version": 3
   },
   "file_extension": ".py",
   "mimetype": "text/x-python",
   "name": "python",
   "nbconvert_exporter": "python",
   "pygments_lexer": "ipython3",
   "version": "3.7.7"
  }
 },
 "nbformat": 4,
 "nbformat_minor": 4
}
