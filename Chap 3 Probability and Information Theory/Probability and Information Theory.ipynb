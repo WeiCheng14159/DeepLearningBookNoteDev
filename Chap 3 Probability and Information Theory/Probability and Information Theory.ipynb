{
 "cells": [
  {
   "cell_type": "markdown",
   "metadata": {},
   "source": [
    "## 第三章：機率與資訊理論\n",
    "參考資料  "
   ]
  },
  {
   "cell_type": "markdown",
   "metadata": {},
   "source": [
    "### 3.1 Why Probability?\n",
    "Probability theory is a mathematical framework for representing uncertain statements\n",
    "\n",
    "__Frequentist Probability__ related directly to the rates at which events occur __Bayesian Probability__ related to qualitative levels\n",
    "of certainty"
   ]
  },
  {
   "cell_type": "markdown",
   "metadata": {},
   "source": [
    "### 3.2 Random Variables\n",
    "\n",
    "### 3.3 Probability Distributions\n"
   ]
  },
  {
   "cell_type": "markdown",
   "metadata": {},
   "source": [
    "### 3.4 Marginal probability\n",
    "The probability distribution over the subset is known as the __marginal probability distribution__.\n",
    "- Discrete random variable\n",
    "    - $$\\forall x \\in x, \\; P(x=x)=\\sum_{y}{P(x=x,y=y)}$$\n",
    "- Continuous random variable\n",
    "    - $$P(x)=\\int {p(x,y)dy}$$"
   ]
  },
  {
   "cell_type": "markdown",
   "metadata": {},
   "source": [
    "### 3.5 Conditional Probability\n"
   ]
  },
  {
   "cell_type": "markdown",
   "metadata": {},
   "source": [
    "### 3.6 The Chain Rule of Conditional Probabilities\n",
    "The joint probability distribution over many random variables may be decomposed into conditional distributions over only one variable. This observation is known as the __chain rule__ of probability. "
   ]
  },
  {
   "cell_type": "markdown",
   "metadata": {},
   "source": [
    "### 3.7 Independence and Conditional Independence\n"
   ]
  },
  {
   "cell_type": "markdown",
   "metadata": {},
   "source": [
    "### 3.8 Expectation, Variance and Covariance\n",
    "__Expectation E(x)__ is the average or mean value when x is drawn from probability distribution P(x).\n",
    "\n",
    "__Variance Var(x)__ measures how much the values of a function of a random variable x vary as we sample different \n",
    "values of x from its prob dist. \n",
    "\n",
    "__Covariance Cov(x,y)__ gives some sense of how much two values are linearly related to each other. \n",
    "\n",
    "The notions of __covariance__ and __dependence__ are related, but are in fact __distinct__ concepts. They are related because two variables that are independent have zero covariance, and two variables that have non-zero covariance are dependent. However, independence is a distinct property from covariance. For two variables to have zero covariance, there must be no linear dependence between them. Independence is a stronger requirement than zero coraviance, because independence also excludes nonlinear relations. It is possible for two variables to be dependent but have zero covariance. \n",
    "\n",
    "__Covariance Matrix__ of a random vector $x \\in R^{n}$ is an $n \\times n$ matrix $$Cov(x)_{i,j} = Cov(x_i, x_j)$$\n",
    "The diagonal elements of the covariance give the variance. $$Cov(x_i, x_i) = Var(x_i)$$"
   ]
  },
  {
   "cell_type": "markdown",
   "metadata": {},
   "source": [
    "### 3.9 Common Probability Distributions\n",
    "#### 3.9.1  Bernoulli distribution \n",
    "A distribution over a single binary random variable. Controlled by $\\phi \\in [0,1]$. \n",
    "- PDF function: $$P(x=x) = \\phi^{x} (1-\\phi)^{(1-x)}$$\n",
    "- Expectation: $$\\mathbb{E}_{x}{[x]}=\\phi$$\n",
    "- Variance: $$\\mathbb{Var}_{x}{(x)}=\\phi (1-\\phi)$$"
   ]
  },
  {
   "cell_type": "markdown",
   "metadata": {},
   "source": [
    "#### 3.9.2 Multinoulli distribution \n",
    "A distribution over a single discrete variable with k different states, where k is finite. Controlled by $p \\in [0,1]^{k-1}$ where $p_i$ gives the probability of the i-th state."
   ]
  },
  {
   "cell_type": "markdown",
   "metadata": {},
   "source": [
    "#### 3.9.3 Gaussian distribution \n",
    "Most commonly used distribution over real numbers. \n",
    "- PDF function: $$X \\sim \\mathcal{N}(\\mu,\\sigma^{2})=\\sqrt{\\frac{1}{2 \\pi \\sigma^{2}}} exp(- \\frac{1}{2 \\sigma^2}(x - \\mu)^2)$$\n",
    "- Expectation: $$\\mathbb{E}_{x}{[x]}=\\mu$$\n",
    "- Variance: $$\\mathbb{Var}_{x}{(x)}=\\sigma^2$$\n",
    "- Precision: $$ \\beta = \\frac{1}{\\sigma^2} \\in (0, \\infty)$$ $$X \\sim \\mathcal{N}(\\mu,\\beta^{-1})=\\sqrt{\\frac{\\beta}{2 \\pi}} exp(- \\frac{1}{2} \\beta (x - \\mu)^2)$$\n",
    "\n",
    "The central limit theorem shows that the sum of many independent random variables is approximately normally distributed.\n",
    "\n",
    "Out of all possible probability distributions with the same variance, the normal distribution encodes the maximum amount of uncertainty over the real numbers."
   ]
  },
  {
   "cell_type": "code",
   "execution_count": 62,
   "metadata": {},
   "outputs": [
    {
     "data": {
      "text/plain": [
       "[<matplotlib.lines.Line2D at 0x7f99f39bcc18>]"
      ]
     },
     "execution_count": 62,
     "metadata": {},
     "output_type": "execute_result"
    },
    {
     "data": {
      "image/png": "[encoded data removed]",
      "text/plain": [
       "<Figure size 432x288 with 1 Axes>"
      ]
     },
     "metadata": {
      "needs_background": "light"
     },
     "output_type": "display_data"
    }
   ],
   "source": [
    "import matplotlib.pyplot as plt\n",
    "import numpy as np \n",
    "\n",
    "from scipy.stats import norm\n",
    "fig, ax = plt.subplots(1, 1)\n",
    "rv = norm(0, 1)\n",
    "x = np.linspace(-10, 10, 50)\n",
    "ax.plot(x, rv.pdf(x), 'r-', lw=5, label='frozen pdf')"
   ]
  },
  {
   "cell_type": "markdown",
   "metadata": {},
   "source": [
    "#### 3.9.4 Exponential distribution\n",
    "- PDF function: \n",
    "$$p(x;\\lambda) = \\left\\{\\begin{matrix} \\lambda e^{-\\lambda x} &,\\; x \\ge 0, \\\\ 0 &,\\; x < 0. \\end{matrix}\\right.$$\n",
    "- Expectation: $$\\mathbb{E}_{x}{[x]}= \\frac{1}{\\lambda}$$\n",
    "- Variance: $$\\mathbb{Var}_{x}{(x)}=\\frac{1}{\\lambda^2}$$"
   ]
  },
  {
   "cell_type": "code",
   "execution_count": 63,
   "metadata": {},
   "outputs": [
    {
     "data": {
      "text/plain": [
       "[<matplotlib.lines.Line2D at 0x7f99f392cf28>]"
      ]
     },
     "execution_count": 63,
     "metadata": {},
     "output_type": "execute_result"
    },
    {
     "data": {
      "image/png": "[encoded data removed]",
      "text/plain": [
       "<Figure size 432x288 with 1 Axes>"
      ]
     },
     "metadata": {
      "needs_background": "light"
     },
     "output_type": "display_data"
    }
   ],
   "source": [
    "from scipy.stats import expon\n",
    "\n",
    "fig, ax = plt.subplots(1, 1)\n",
    "rv = expon(0, 1)\n",
    "x = np.linspace(0, 10, 50)\n",
    "ax.plot(x, rv.pdf(x), 'r-', lw=5, alpha=0.6, label='expon pdf')"
   ]
  },
  {
   "cell_type": "markdown",
   "metadata": {},
   "source": [
    "#### 3.9.4  Laplace distribution\n",
    "- PDF function: $f(x|\\mu,b) = \\frac{1}{2b} \\exp \\left( -\\frac{|x-\\mu|}{b} \\right) \\,\\!$\n",
    "$= \\frac{1}{2b}\n",
    "    \\left\\{\\begin{matrix}\n",
    "      \\exp \\left( -\\frac{\\mu-x}{b} \\right) & \\mbox{if }x < \\mu\n",
    "      \\\\[8pt]\n",
    "      \\exp \\left( -\\frac{x-\\mu}{b} \\right) & \\mbox{if }x \\geq \\mu\n",
    "    \\end{matrix}\\right.$\n",
    "    \n",
    "- Expectation: $\\mu$\n",
    "- Variance: $2b^2$"
   ]
  },
  {
   "cell_type": "code",
   "execution_count": 64,
   "metadata": {},
   "outputs": [
    {
     "data": {
      "text/plain": [
       "[<matplotlib.lines.Line2D at 0x7f99f335ccf8>]"
      ]
     },
     "execution_count": 64,
     "metadata": {},
     "output_type": "execute_result"
    },
    {
     "data": {
      "image/png": "[encoded data removed]",
      "text/plain": [
       "<Figure size 432x288 with 1 Axes>"
      ]
     },
     "metadata": {
      "needs_background": "light"
     },
     "output_type": "display_data"
    }
   ],
   "source": [
    "from scipy.stats import laplace\n",
    "fig, ax = plt.subplots(1, 1)\n",
    "rv = laplace()\n",
    "x = np.linspace(-10, 10, 50)\n",
    "ax.plot(x, rv.pdf(x), 'r-', lw=5, alpha=0.6, label='laplace pdf')"
   ]
  },
  {
   "cell_type": "markdown",
   "metadata": {},
   "source": [
    "#### 3.9.5 Dirac distribution \n",
    "When we wish to specify that all of the mass in a probability distribution clusters around a single point.\n",
    "- PDF: $$p(x) = \\delta(x-\\mu)$$\n",
    "- Dirac function is a special form of normal distribution "
   ]
  },
  {
   "cell_type": "code",
   "execution_count": 65,
   "metadata": {},
   "outputs": [
    {
     "data": {
      "image/png": "[encoded data removed]",
      "text/plain": [
       "<Figure size 432x288 with 1 Axes>"
      ]
     },
     "metadata": {
      "needs_background": "light"
     },
     "output_type": "display_data"
    }
   ],
   "source": [
    "from scipy.stats import norm\n",
    "fig, ax = plt.subplots(1, 1)\n",
    "rvs = []\n",
    "a = [0.05, 0.1, 0.2, 0.4]\n",
    "for i in range(len(a)):\n",
    "    rvs.append(norm(0, a[i]))\n",
    "\n",
    "x = np.linspace(-1, 1, 100)\n",
    "for i in range(len(a)):\n",
    "    ax.plot(x, rvs[i].pdf(x), 'r-', lw=1, label='dirac pdf')"
   ]
  },
  {
   "cell_type": "markdown",
   "metadata": {},
   "source": [
    "#### 3.9.5 Empirical distribution\n",
    "The Dirac delta distribution is only necessary to define the empirical distribution over continuous variables.\n",
    "- PDF: $$p(x) = \\frac{1}{m} \\sum_{i=1}^{m} \\delta(x-x^{(i)})$$"
   ]
  },
  {
   "cell_type": "markdown",
   "metadata": {},
   "source": [
    "#### 3.9.6 Mixture of distributions\n",
    "Define probability distributions by combining other simpler probability distributions.\n",
    "\n",
    "__Latent variable__ is a random variable that we cannot observe directly. \n",
    "\n",
    "Latent variables may be related to x through the joint distribution, in this case, $P(x,c)=P(x|c)P(c)$. \n",
    "\n",
    "The distribution $P (c)$ over the latent variable and the distribution $P(x|c)$ relating the latent variables to the visible variables determines the shape of the distribution $P(x)$ even though it is possible to describe $P(x)$ without reference to the latent variable.\n",
    "\n",
    "__Gaussian mixture model__ The components $P(x|c=i)$ are Gaussians. Each component has a separately parametrized mean $\\mu^{i}$ and covariance $\\Sigma^{i}$"
   ]
  },
  {
   "cell_type": "markdown",
   "metadata": {},
   "source": [
    "### 3.10 Useful Properties of Common Functions\n",
    "- Logistic sigmoid \n",
    "    - $$\\sigma(x)=\\frac{1}{1+e^{-x}}$$\n",
    "    - Commonly used to produce the $\\phi$ parameter of a Bernoulli distribution because its range is (0,1)\n",
    "    - Function saturates when its argument is very positive or very negative, meaning that the function becomes very falt and __insensitive__ to small changes in its input. \n",
    "    - Another form of sigmoid: $$\\sigma(x)=\\frac{1}{1+e^{-x}} = \\frac{e^x}{e^x+1}$$\n",
    "    - __Derivative__: $$\\frac{d}{dx} \\sigma(x) = \\sigma(x)(1-\\sigma(x))$$\n",
    "    - __Negative__: $$\\sigma(-x) = 1 - \\sigma(x)$$\n",
    "    - __Logrithm__: $$\\log( \\sigma(x) )= -\\zeta(-x)$$\n",
    "    - __Inverse__: $$\\forall x \\in (0,1), \\; \\sigma^{-1}(x) = log(\\frac{x}{1-x})$$"
   ]
  },
  {
   "cell_type": "code",
   "execution_count": 66,
   "metadata": {},
   "outputs": [
    {
     "data": {
      "text/plain": [
       "[<matplotlib.lines.Line2D at 0x7f99f310ce48>]"
      ]
     },
     "execution_count": 66,
     "metadata": {},
     "output_type": "execute_result"
    },
    {
     "data": {
      "image/png": "[encoded data removed]",
      "text/plain": [
       "<Figure size 432x288 with 1 Axes>"
      ]
     },
     "metadata": {
      "needs_background": "light"
     },
     "output_type": "display_data"
    }
   ],
   "source": [
    "def sigmoid(x):\n",
    "    return 1/(1+np.exp(-x))\n",
    "\n",
    "fig, ax = plt.subplots(1, 1)\n",
    "x = np.linspace(-10, 10, 50)\n",
    "ax.plot(x, sigmoid(x), 'r-', lw=5, alpha=0.6, label='sigmoid')"
   ]
  },
  {
   "cell_type": "markdown",
   "metadata": {},
   "source": [
    "- Softplus function \n",
    "    - $$\\zeta(x) = \\log(1+e^x)$$\n",
    "    - Commonly used for producing the $\\beta,\\sigma$ parameter of a normal distribution because its range is (0,$\\infty$)\n",
    "    - It's a softened version of Relu function \n",
    "    - __Derivative__: $$\\frac{d}{dx} \\zeta(x) = \\sigma(x), \\; \\zeta(x) = \\int^{x}_{-\\infty} \\sigma(y) dy$$\n",
    "    - __Negative__: $$ \\forall x > 0, \\; \\zeta^{-1}(x) = \\log(e^x-1)$$\n",
    "    - __Inverse__: $$\\zeta(x) - \\zeta(-x) = x$$"
   ]
  },
  {
   "cell_type": "code",
   "execution_count": 67,
   "metadata": {},
   "outputs": [
    {
     "data": {
      "text/plain": [
       "[<matplotlib.lines.Line2D at 0x7f99f30f8da0>]"
      ]
     },
     "execution_count": 67,
     "metadata": {},
     "output_type": "execute_result"
    },
    {
     "data": {
      "image/png": "[encoded data removed]",
      "text/plain": [
       "<Figure size 432x288 with 1 Axes>"
      ]
     },
     "metadata": {
      "needs_background": "light"
     },
     "output_type": "display_data"
    }
   ],
   "source": [
    "def softplus(x):\n",
    "    return np.log(np.ones(x.shape[0]) + np.exp(x))\n",
    "def relu(x):\n",
    "    return np.maximum(0, x)\n",
    "\n",
    "fig, ax = plt.subplots(1, 1)\n",
    "x = np.linspace(-10, 10, 100)\n",
    "ax.plot(x, softplus(x), 'r-', lw=5, alpha=0.6, label='softplus')    \n",
    "ax.plot(x, relu(x), 'b-', lw=2, alpha=0.6, label='relu')    "
   ]
  },
  {
   "cell_type": "markdown",
   "metadata": {},
   "source": [
    "### 3.11 Bayes’ Rule\n",
    "- $$P(x|y) = \\frac{P(x) P(y|x)}{P(y)}$$\n",
    "    - Known: $P(y|x), \\; P(x)$\n",
    "    - Unknown: $P(x|y)$\n",
    "    - Need computing: $P(y) = \\sum_{x} P(y|x)P(x)$"
   ]
  },
  {
   "cell_type": "markdown",
   "metadata": {},
   "source": [
    "### 3.12 Technical Details of Continuous Variables\n",
    "- The handling of continuous random variables that are deterministic functions of one another. \n",
    "    - Given two random variables $x \\; and \\; y$ such that $y=g(x) = 2x$ where g is invertible. However, $p_y(2x) \\neq p_x(x)$\n",
    "    - This mistake fails to account for the distortion of space introduced by the function. \n",
    "    - Based on the definition of probability distribution $$|p_y(g(x))dy| = |p_x(x)dx|$$\n",
    "    - In higher dimensions, the derivative generalizes to the determinant of the Jacobian matrix $$p_x(x) = p_y(g(x)) |det(\\frac{\\partial g(x)}{\\partial x})|$$"
   ]
  },
  {
   "cell_type": "markdown",
   "metadata": {},
   "source": [
    "### 3.13 Information Theory\n",
    "- The basic intuition behind information theory is that learning that an unlikely event has occurred is more informative than learning that a likely event has occured. \n",
    "    - Likely events should have low information content. \n",
    "    - Less likely events should have hight information content. \n",
    "    - Independent events should have additive information. A tossed coin come up as heads twice should give TWICE more information as a coin come up once. \n",
    "- To satisfy all 3 properties, we defined the __self information__ of an event to be $$I(x) = - \\log P(x)$$\n",
    "- __Shannon entropy__ of a distribution is the expected amount of information in an event drawn from that distribution. It gives a lower bound on the number of bits needed on average to encode symbols drawn from a distribution P. $$H(x) = \\mathbb{E}_{x \\sim P} [I(x)]$$\n",
    "    - Distribution that is nearly deterministic has low entropy\n",
    "    - Distribution that is close to uniform has high entropy"
   ]
  },
  {
   "cell_type": "code",
   "execution_count": 68,
   "metadata": {},
   "outputs": [
    {
     "data": {
      "text/plain": [
       "[<matplotlib.lines.Line2D at 0x7f99f35a9390>]"
      ]
     },
     "execution_count": 68,
     "metadata": {},
     "output_type": "execute_result"
    },
    {
     "data": {
      "image/png": "[encoded data removed]",
      "text/plain": [
       "<Figure size 432x288 with 1 Axes>"
      ]
     },
     "metadata": {
      "needs_background": "light"
     },
     "output_type": "display_data"
    }
   ],
   "source": [
    "def entropy(p):\n",
    "    return (p-1)*np.log(1-p)-p*np.log(p)\n",
    "\n",
    "fig, ax = plt.subplots(1, 1)\n",
    "x = np.linspace(0.01, 0.99, 50)\n",
    "ax.plot(x, entropy(x), 'r-', lw=5, alpha=0.6, label='entropy')  "
   ]
  },
  {
   "cell_type": "markdown",
   "metadata": {},
   "source": [
    "__Figure__ This plot shows how distributions that are closer to deterministic have low Shannon entropy while distributions that are close to uniform have high Shannon entropy. On the horizontal axis, we plot p, the probability of a binary random variable being equal\n",
    "to 1. The entropy is given by $-(1 − p) \\log(1 − p) − p \\log p$. "
   ]
  },
  {
   "cell_type": "markdown",
   "metadata": {},
   "source": [
    "### 3.14 Structured Probabilistic Models\n"
   ]
  }
 ],
 "metadata": {
  "kernelspec": {
   "display_name": "Python 3",
   "language": "python",
   "name": "python3"
  },
  "language_info": {
   "codemirror_mode": {
    "name": "ipython",
    "version": 3
   },
   "file_extension": ".py",
   "mimetype": "text/x-python",
   "name": "python",
   "nbconvert_exporter": "python",
   "pygments_lexer": "ipython3",
   "version": "3.7.7"
  }
 },
 "nbformat": 4,
 "nbformat_minor": 4
}
